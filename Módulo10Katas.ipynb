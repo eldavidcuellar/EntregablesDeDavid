{
  "cells": [
    {
      "cell_type": "markdown",
      "metadata": {},
      "source": [
        "# Kata 10\n"
      ]
    },
    {
      "cell_type": "code",
      "execution_count": null,
      "metadata": {},
      "outputs": [],
      "source": [
        ">>> open(\"/path/to/mars.jpg\")\n",
        "Traceback (most recent call last):\n",
        "  File \"<stdin>\", line 1, in <module>\n",
        "FileNotFoundError: [Errno 2] No such file or directory: '/path/to/mars.jpg'"
      ]
    },
    {
      "cell_type": "code",
      "execution_count": null,
      "metadata": {},
      "outputs": [],
      "source": [
        "def main():\n",
        "    open(\"/path/to/mars.jpg\")\n",
        "\n",
        "if __name__ == '__main__':\n",
        "    main()"
      ]
    },
    {
      "cell_type": "code",
      "execution_count": null,
      "metadata": {},
      "outputs": [],
      "source": [
        "$ python3 open.py\n",
        "Traceback (most recent call last):\n",
        "  File \"/tmp/open.py\", line 5, in <module>\n",
        "    main()\n",
        "  File \"/tmp/open.py\", line 2, in main\n",
        "    open(\"/path/to/mars.jpg\")\n",
        "FileNotFoundError: [Errno 2] No such file or directory: '/path/to/mars.jpg'"
      ]
    },
    {
      "cell_type": "code",
      "execution_count": null,
      "metadata": {},
      "outputs": [],
      "source": [
        ">>> try:\n",
        "...     open('config.txt')\n",
        "... except FileNotFoundError:\n",
        "...     print(\"Couldn't find the config.txt file!\")\n",
        "...\n",
        "Couldn't find the config.txt file!"
      ]
    },
    {
      "cell_type": "code",
      "execution_count": null,
      "metadata": {},
      "outputs": [],
      "source": [
        "def main():\n",
        "    try:\n",
        "        configuration = open('config.txt')\n",
        "    except FileNotFoundError:\n",
        "        print(\"Couldn't find the config.txt file!\")\n",
        "\n",
        "\n",
        "if __name__ == '__main__':\n",
        "    main()"
      ]
    },
    {
      "cell_type": "code",
      "execution_count": null,
      "metadata": {},
      "outputs": [],
      "source": [
        "$ python config.py\n",
        "Traceback (most recent call last):\n",
        "  File \"/tmp/config.py\", line 9, in <module>\n",
        "    main()\n",
        "  File \"/tmp/config.py\", line 3, in main\n",
        "    configuration = open('config.txt')\n",
        "IsADirectoryError: [Errno 21] Is a directory: 'config.txt'"
      ]
    },
    {
      "cell_type": "code",
      "execution_count": null,
      "metadata": {},
      "outputs": [],
      "source": [
        "def main():\n",
        "    try:\n",
        "        configuration = open('config.txt')\n",
        "    except Exception:\n",
        "        print(\"Couldn't find the config.txt file!\")"
      ]
    },
    {
      "cell_type": "code",
      "execution_count": null,
      "metadata": {},
      "outputs": [],
      "source": [
        "$ python config.py\n",
        "Traceback (most recent call last):\n",
        "  File \"/tmp/config.py\", line 9, in <module>\n",
        "    main()\n",
        "  File \"/tmp/config.py\", line 3, in main\n",
        "    configuration = open('config.txt')\n",
        "IsADirectoryError: [Errno 21] Is a directory: 'config.txt'"
      ]
    },
    {
      "cell_type": "code",
      "execution_count": null,
      "metadata": {},
      "outputs": [],
      "source": [
        "def main():\n",
        "    try:\n",
        "        configuration = open('config.txt')\n",
        "    except Exception:\n",
        "        print(\"Couldn't find the config.txt file!\")"
      ]
    },
    {
      "cell_type": "code",
      "execution_count": null,
      "metadata": {},
      "outputs": [],
      "source": [
        "$ python config.py\n",
        "Couldn't find the config.txt file!"
      ]
    },
    {
      "cell_type": "code",
      "execution_count": null,
      "metadata": {},
      "outputs": [],
      "source": [
        "def main():\n",
        "    try:\n",
        "        configuration = open('config.txt')\n",
        "    except FileNotFoundError:\n",
        "        print(\"Couldn't find the config.txt file!\")\n",
        "    except IsADirectoryError:\n",
        "        print(\"Found config.txt but it is a directory, couldn't read it\")"
      ]
    },
    {
      "cell_type": "code",
      "execution_count": null,
      "metadata": {},
      "outputs": [],
      "source": [
        "$ python config.py\n",
        "Found config.txt but couldn't read it"
      ]
    },
    {
      "cell_type": "code",
      "execution_count": null,
      "metadata": {},
      "outputs": [],
      "source": [
        "$ rm -f config.txt\n",
        "$ python config.py\n",
        "Couldn't find the config.txt file!"
      ]
    },
    {
      "cell_type": "code",
      "execution_count": null,
      "metadata": {},
      "outputs": [],
      "source": [
        ">>> try:\n",
        "...     open(\"mars.jpg\")\n",
        "... except FileNotFoundError as err:\n",
        "...     print(\"got a problem trying to read the file:\", err)\n",
        "...\n",
        "got a problem trying to read the file: [Errno 2] No such file or directory: 'mars.jpg'"
      ]
    },
    {
      "cell_type": "code",
      "execution_count": null,
      "metadata": {},
      "outputs": [],
      "source": [
        ">>> try:\n",
        "...     open(\"config.txt\")\n",
        "... except OSError as err:\n",
        "...     if err.errno == 2:\n",
        "...         print(\"Couldn't find the config.txt file!\")\n",
        "...     elif err.errno == 13:\n",
        "...         print(\"Found config.txt but couldn't read it\")\n",
        "...\n",
        "Couldn't find the config.txt file!"
      ]
    },
    {
      "cell_type": "code",
      "execution_count": null,
      "metadata": {},
      "outputs": [],
      "source": [
        "def water_left(astronauts, water_left, days_left):\n",
        "    daily_usage = astronauts * 11\n",
        "    total_usage = daily_usage * days_left\n",
        "    total_water_left = water_left - total_usage\n",
        "    return f\"Total water left after {days_left} days is: {total_water_left} liters\""
      ]
    },
    {
      "cell_type": "code",
      "execution_count": null,
      "metadata": {},
      "outputs": [],
      "source": [
        ">>> water_left(5, 100, 2)\n",
        "'Total water left after 2 days is: -10 liters'"
      ]
    },
    {
      "cell_type": "code",
      "execution_count": null,
      "metadata": {},
      "outputs": [],
      "source": [
        "def water_left(astronauts, water_left, days_left):\n",
        "    daily_usage = astronauts * 11\n",
        "    total_usage = daily_usage * days_left\n",
        "    total_water_left = water_left - total_usage\n",
        "    if total_water_left < 0:\n",
        "        raise RuntimeError(f\"There is not enough water for {astronauts} astronauts after {days_left} days!\")\n",
        "    return f\"Total water left after {days_left} days is: {total_water_left} liters\""
      ]
    },
    {
      "cell_type": "code",
      "execution_count": null,
      "metadata": {},
      "outputs": [],
      "source": [
        ">>> water_left(5, 100, 2)\n",
        "Traceback (most recent call last):\n",
        "  File \"<stdin>\", line 1, in <module>\n",
        "  File \"<stdin>\", line 6, in water_left\n",
        "RuntimeError: There is not enough water for 5 astronauts after 2 days!"
      ]
    },
    {
      "cell_type": "code",
      "execution_count": null,
      "metadata": {},
      "outputs": [],
      "source": [
        "try:\n",
        "    water_left(5, 100, 2)\n",
        "except RuntimeError as err:\n",
        "    alert_navigation_system(err)"
      ]
    },
    {
      "cell_type": "code",
      "execution_count": null,
      "metadata": {},
      "outputs": [],
      "source": [
        ">>> water_left(\"3\", \"200\", None)\n",
        "Traceback (most recent call last):\n",
        "  File \"<stdin>\", line 1, in <module>\n",
        "  File \"<stdin>\", line 3, in water_left\n",
        "TypeError: can't multiply sequence by non-int of type 'NoneType'"
      ]
    },
    {
      "cell_type": "code",
      "execution_count": null,
      "metadata": {},
      "outputs": [],
      "source": [
        ">>> water_left(\"3\", \"200\", None)\n",
        "Traceback (most recent call last):\n",
        "  File \"<stdin>\", line 1, in <module>\n",
        "  File \"<stdin>\", line 3, in water_left\n",
        "TypeError: can't multiply sequence by non-int of type 'NoneType'"
      ]
    },
    {
      "cell_type": "code",
      "execution_count": null,
      "metadata": {},
      "outputs": [],
      "source": [
        "def water_left(astronauts, water_left, days_left):\n",
        "    for argument in [astronauts, water_left, days_left]:\n",
        "        try:\n",
        "            # If argument is an int, the following operation will work\n",
        "            argument / 10\n",
        "        except TypeError:\n",
        "            # TypError will be raised only if it isn't the right type \n",
        "            # Raise the same exception but with a better error message\n",
        "            raise TypeError(f\"All arguments must be of type int, but received: '{argument}'\")\n",
        "    daily_usage = astronauts * 11\n",
        "    total_usage = daily_usage * days_left\n",
        "    total_water_left = water_left - total_usage\n",
        "    if total_water_left < 0:\n",
        "        raise RuntimeError(f\"There is not enough water for {astronauts} astronauts after {days_left} days!\")\n",
        "    return f\"Total water left after {days_left} days is: {total_water_left} liters\""
      ]
    },
    {
      "cell_type": "code",
      "execution_count": null,
      "metadata": {},
      "outputs": [],
      "source": [
        ">>> water_left(\"3\", \"200\", None)\n",
        "Traceback (most recent call last):\n",
        "  File \"<stdin>\", line 5, in water_left\n",
        "TypeError: unsupported operand type(s) for /: 'str' and 'int'\n",
        "\n",
        "During handling of the preceding exception, another exception occurred:\n",
        "\n",
        "Traceback (most recent call last):\n",
        "  File \"<stdin>\", line 1, in <module>\n",
        "  File \"<stdin>\", line 9, in water_left\n",
        "TypeError: All arguments must be of type int, but received: '3'"
      ]
    }
  ],
  "metadata": {
    "interpreter": {
      "hash": "205095b8b86ea82a021a8fc2ffba2b3bc9f8d0be25999901963b225939f75778"
    },
    "kernelspec": {
      "display_name": "Python 3.8.10 64-bit ('tmp': conda)",
      "name": "python3"
    },
    "language_info": {
      "codemirror_mode": {
        "name": "ipython",
        "version": 3
      },
      "file_extension": ".py",
      "mimetype": "text/x-python",
      "name": "python",
      "nbconvert_exporter": "python",
      "pygments_lexer": "ipython3",
      "version": "3.8.10"
    },
    "nteract": {
      "version": "nteract-front-end@1.0.0"
    },
    "orig_nbformat": 4
  },
  "nbformat": 4,
  "nbformat_minor": 2
}
